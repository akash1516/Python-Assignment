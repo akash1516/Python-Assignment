{
 "cells": [
  {
   "cell_type": "code",
   "execution_count": null,
   "id": "ff328ac2-7cc4-4e3d-9b64-c5cf21244043",
   "metadata": {},
   "outputs": [],
   "source": [
    "#Q1. Explain with an example each when to use a for loop and a while loop.\n",
    "\n",
    "'''For loops are typically used when the number of iterations is known in advance. For example,\n",
    "for i in range(1, 11):\n",
    "    print(i)\n",
    "\n",
    "While loops, on the other hand, are typically used when the number of iterations is not known in advance, or when the loop needs to continue until a certain condition is met. For example,\n",
    "\n",
    "input_str = \"\"\n",
    "while input_str != \"quit\":\n",
    "    input_str = input(\"Enter something (or 'quit' to exit): \")\n",
    "    print(\"You entered: \", input_str)'''\n"
   ]
  },
  {
   "cell_type": "code",
   "execution_count": 1,
   "id": "9c0340d2-e047-4150-8a0f-bdd8b9aad5e5",
   "metadata": {},
   "outputs": [
    {
     "name": "stdout",
     "output_type": "stream",
     "text": [
      "sum =  55\n",
      "product =  3628800\n",
      "sum =  55\n",
      "product =  3628800\n"
     ]
    }
   ],
   "source": [
    "#Q2. Write a python program to print the sum and product of the first 10 natural numbers using for and while loop.\n",
    "\n",
    "# Sum and product of the first 10 natural numbers using for loop\n",
    "sum=0\n",
    "product=1\n",
    "for i in range(1,11):\n",
    "    sum+=i\n",
    "    product*=i\n",
    "print(\"sum = \",sum)\n",
    "print(\"product = \",product)\n",
    "\n",
    "\n",
    "#Sum and product of the first 10 natural numbers using while loop\n",
    "sum = 0\n",
    "product = 1\n",
    "count = 1\n",
    "\n",
    "while count <= 10:\n",
    "    sum += count\n",
    "    product *= count\n",
    "    count += 1\n",
    "print(\"sum = \",sum)\n",
    "print(\"product = \",product)"
   ]
  },
  {
   "cell_type": "code",
   "execution_count": 3,
   "id": "07e0b130-68c9-4806-aa14-9cdb250d2d4b",
   "metadata": {},
   "outputs": [
    {
     "name": "stdin",
     "output_type": "stream",
     "text": [
      "Enter the number of units consumed:  310\n"
     ]
    },
    {
     "name": "stdout",
     "output_type": "stream",
     "text": [
      "The electricity bill amount is Rs. 2250.0\n"
     ]
    }
   ],
   "source": [
    "'''Q3. Create a python program to compute the electricity bill for a household.The per-unit charges in rupees are as follows: For the first 100 units, the user will be charged Rs. 4.5 per\n",
    "unit, for the next 100 units, the user will be charged Rs. 6 per unit, and for the next 100 units, the user will\n",
    "be charged Rs. 10 per unit, After 300 units and above the user will be charged Rs. 20 per unit.'''\n",
    "\n",
    "#input for the number of units consumed\n",
    "units = int(input(\"Enter the number of units consumed: \"))\n",
    "\n",
    "# Initializing variables for the total bill amount\n",
    "bill_amount = 0\n",
    "\n",
    "if(units<=100):\n",
    "    bill_amount+=units*4.5\n",
    "elif(units>100 and units<=200):\n",
    "    bill_amount+=(100*4.5)+((units-100)*6)\n",
    "elif(units>200 and units<=300):\n",
    "    bill_amount+=(100*4.5)+(100*6)+((units-200)*10)\n",
    "else:\n",
    "    bill_amount+=(100*4.5)+(100*6)++(100*10)+((units-300)*20)\n",
    "print (\"The electricity bill amount is Rs.\", bill_amount)\n",
    "\n"
   ]
  },
  {
   "cell_type": "code",
   "execution_count": 7,
   "id": "192d92a3-e13a-429a-b27a-b64af6b7d90a",
   "metadata": {},
   "outputs": [
    {
     "name": "stdout",
     "output_type": "stream",
     "text": [
      "Numbers whose cubes are divisible by 4 or 5 using for loop are: [2, 4, 5, 6, 8, 10, 12, 14, 15, 16, 18, 20, 22, 24, 25, 26, 28, 30, 32, 34, 35, 36, 38, 40, 42, 44, 45, 46, 48, 50, 52, 54, 55, 56, 58, 60, 62, 64, 65, 66, 68, 70, 72, 74, 75, 76, 78, 80, 82, 84, 85, 86, 88, 90, 92, 94, 95, 96, 98, 100]\n",
      "\n",
      "Numbers whose cubes are divisible by 4 or 5 using while loop are: [2, 4, 5, 6, 8, 10, 12, 14, 15, 16, 18, 20, 22, 24, 25, 26, 28, 30, 32, 34, 35, 36, 38, 40, 42, 44, 45, 46, 48, 50, 52, 54, 55, 56, 58, 60, 62, 64, 65, 66, 68, 70, 72, 74, 75, 76, 78, 80, 82, 84, 85, 86, 88, 90, 92, 94, 95, 96, 98, 100]\n"
     ]
    }
   ],
   "source": [
    "'''Q4. Create a list of numbers from 1 to 100. Use for loop and while loop to calculate the cube of each\n",
    "number and if the cube of that number is divisible by 4 or 5 then append that number in a list and print\n",
    "that list. '''\n",
    "\n",
    "#using for loop\n",
    "num_list = list(range(1, 101))\n",
    "cubes_list = []\n",
    "\n",
    "for num in num_list:\n",
    "    cube = num ** 3\n",
    "    if cube % 4 == 0 or cube % 5 == 0:\n",
    "        cubes_list.append(num)\n",
    "print(\"Numbers whose cubes are divisible by 4 or 5 using for loop are:\", cubes_list)\n",
    "\n",
    "#using while loop\n",
    "\n",
    "num_list = list(range(1, 101))\n",
    "cubes_list = []\n",
    "\n",
    "count = 0\n",
    "while count < len(num_list):\n",
    "    num = num_list[count]\n",
    "    cube = num ** 3\n",
    "    if cube % 4 == 0 or cube % 5 == 0:\n",
    "        cubes_list.append(num)\n",
    "    count += 1\n",
    "\n",
    "\n",
    "print(\"\\nNumbers whose cubes are divisible by 4 or 5 using while loop are:\", cubes_list)"
   ]
  },
  {
   "cell_type": "code",
   "execution_count": 8,
   "id": "835e7fbe-4f7b-4683-bfc1-f58948ba9d84",
   "metadata": {},
   "outputs": [
    {
     "name": "stdout",
     "output_type": "stream",
     "text": [
      "the vowel count is  12\n"
     ]
    }
   ],
   "source": [
    "'''Q5. Write a program to filter count vowels in the below-given string.\n",
    "string = \"I want to become a data scientist\"'''\n",
    "\n",
    "str=\"I want to become a data scientist\"\n",
    "#list of vowels\n",
    "vowels=['a','e','i','o','u']\n",
    "# variable for vowels count\n",
    "count_vowels=0\n",
    "for i in str:\n",
    "    if i.lower() in vowels:\n",
    "        count_vowels+=1\n",
    "print(\"the vowel count is \",count_vowels)"
   ]
  },
  {
   "cell_type": "code",
   "execution_count": null,
   "id": "46165ee3-6193-407a-a129-807479561321",
   "metadata": {},
   "outputs": [],
   "source": []
  }
 ],
 "metadata": {
  "kernelspec": {
   "display_name": "Python 3 (ipykernel)",
   "language": "python",
   "name": "python3"
  },
  "language_info": {
   "codemirror_mode": {
    "name": "ipython",
    "version": 3
   },
   "file_extension": ".py",
   "mimetype": "text/x-python",
   "name": "python",
   "nbconvert_exporter": "python",
   "pygments_lexer": "ipython3",
   "version": "3.10.8"
  }
 },
 "nbformat": 4,
 "nbformat_minor": 5
}
