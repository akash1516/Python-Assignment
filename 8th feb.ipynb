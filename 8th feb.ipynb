{
 "cells": [
  {
   "cell_type": "markdown",
   "id": "dc630383-0c93-41af-992e-a48a5e7a8ade",
   "metadata": {},
   "source": [
    "Q1. What is Abstraction in OOps? Explain with an example.\n",
    "\n",
    "Abstraction is an important concept in object-oriented programming that allows you to hide unnecessary details while exposing only the relevant information to the user."
   ]
  },
  {
   "cell_type": "code",
   "execution_count": 1,
   "id": "cd2473b2-056c-42d3-aa00-74404a6e4a20",
   "metadata": {},
   "outputs": [],
   "source": [
    "import abc   \n",
    "class Car:\n",
    "    @abc.abstractmethod\n",
    "    def mileage(self):   \n",
    "        pass  \n",
    "  \n",
    "class Toyota(Car):   \n",
    "    def mileage(self):   \n",
    "        print(\"The mileage is 30kmph\")   \n",
    "class Suzuki(Car):   \n",
    "    def mileage(self):   \n",
    "        print(\"The mileage is 25kmph \")   \n",
    "class Hyundai(Car):   \n",
    "     def mileage(self):   \n",
    "          print(\"The mileage is 45kmph \")   \n",
    "  \n",
    "class Renault(Car):   \n",
    "    def mileage(self):   \n",
    "            print(\"The mileage is 27kmph \")   "
   ]
  },
  {
   "cell_type": "code",
   "execution_count": 2,
   "id": "404d9f64-b8d6-418c-8395-bcac2176eca6",
   "metadata": {},
   "outputs": [
    {
     "name": "stdout",
     "output_type": "stream",
     "text": [
      "The mileage is 30kmph\n"
     ]
    }
   ],
   "source": [
    "t= Toyota ()   \n",
    "t.mileage()"
   ]
  },
  {
   "cell_type": "code",
   "execution_count": 3,
   "id": "1062442a-1c53-4ec8-8481-352192143fec",
   "metadata": {},
   "outputs": [
    {
     "name": "stdout",
     "output_type": "stream",
     "text": [
      "The mileage is 25kmph \n"
     ]
    }
   ],
   "source": [
    "s = Suzuki()   \n",
    "s.mileage() "
   ]
  },
  {
   "cell_type": "code",
   "execution_count": 4,
   "id": "351875a6-f09a-4033-84ec-1b495658eeb3",
   "metadata": {},
   "outputs": [
    {
     "name": "stdout",
     "output_type": "stream",
     "text": [
      "The mileage is 45kmph \n"
     ]
    }
   ],
   "source": [
    "h = Hyundai()\n",
    "h.mileage()"
   ]
  },
  {
   "cell_type": "code",
   "execution_count": 5,
   "id": "dc5f05be-d567-4a4f-a1e3-0afda93af9e2",
   "metadata": {},
   "outputs": [
    {
     "name": "stdout",
     "output_type": "stream",
     "text": [
      "The mileage is 27kmph \n"
     ]
    }
   ],
   "source": [
    "r = Renault()\n",
    "r.mileage()"
   ]
  },
  {
   "cell_type": "markdown",
   "id": "fd5f048e-d471-4894-94d9-7cc4799c0a93",
   "metadata": {},
   "source": [
    "Q2. Differentiate between Abstraction and Encapsulation. Explain with an example.\n",
    "\n",
    "Abstraction is the process of hiding unnecessary details and focusing on essential features of an object or system. It allows us to represent complex systems in a simplified way. In OOP, abstraction is achieved through the use of abstract classes and interfaces. Abstract classes are classes that cannot be instantiated but provide a blueprint for the creation of derived classes. Interfaces define a set of methods that a class must implement.\n",
    "\n",
    "For example, let's consider a vehicle class. We can abstract it to a more general class called \"Transportation\" that includes only the necessary properties and methods that all vehicles have in common, such as speed, capacity, and fuel consumption. This abstraction allows us to work with any type of vehicle (car, train, airplane) without worrying about their specific details.\n",
    "\n",
    "Encapsulation, on the other hand, is the practice of bundling related data and functions (or methods) into a single unit, which is known as a class. It restricts access to the internal details of an object, allowing it to be modified only through the methods provided by the class. This provides a level of security and helps prevent the accidental modification of data.\n",
    "\n",
    "For example, let's consider a bank account class. It can have private variables such as account number, balance, and PIN code, which should not be accessible outside the class. Encapsulation ensures that these variables can only be accessed through the methods provided by the class, such as deposit, withdraw, and check balance."
   ]
  },
  {
   "cell_type": "markdown",
   "id": "faf5083d-42b2-42a0-acd2-e52e0899b0fd",
   "metadata": {},
   "source": [
    "Q3. What is abc module in python? Why is it used?\n",
    "The abc module in Python is the Abstract Base Class module. It is used to define abstract base classes, which provide a way to define interfaces in Python. An abstract base class is a class that cannot be instantiated, but can be subclassed. The purpose of an abstract base class is to specify the interface that its subclasses must implement, without specifying how that implementation should be done.\n",
    "\n",
    "The abc module provides a way to create abstract base classes in Python by using the ABC class, as well as several decorators and methods to define abstract methods and properties."
   ]
  },
  {
   "cell_type": "markdown",
   "id": "07c66212-eab3-4e29-9f25-6f8b2257b165",
   "metadata": {},
   "source": [
    "Q4. How can we achieve data abstraction?\n",
    "Data abstraction is a programming concept that allows you to define the interface of an object without revealing the underlying implementation details. In other words, it provides a way to separate the implementation details of an object from the way it is used by other objects.\n",
    "\n",
    "There are several ways to achieve data abstraction in programming:\n",
    "\n",
    "Abstraction through classes: One of the most common ways to achieve data abstraction is through the use of classes. In object-oriented programming, classes provide a way to define objects with certain properties and methods, but hide the underlying implementation details from the rest of the code. For example, you can define a class with public methods that expose its behavior, but keep the implementation details private.\n",
    "\n",
    "Interfaces: An interface is a collection of abstract methods that must be implemented by any class that implements the interface. Interfaces are used to define a common set of behaviors that can be implemented by different classes, without specifying the implementation details. For example, in Java, you can define an interface that specifies the methods that must be implemented by a class that implements the interface.\n",
    "\n",
    "Modules: In some programming languages, like Python, you can use modules to define a set of related functions and variables, and hide the implementation details behind a well-defined interface. Modules provide a way to encapsulate the implementation details of a set of functions, and expose them to the rest of the code through a simple API.\n",
    "\n",
    "Information hiding: Information hiding is a programming concept that involves hiding the implementation details of an object or function behind a well-defined interface. Information hiding is used to protect the internal state of an object from being modified by external code, and to provide a clear and well-defined way for other objects to interact with the object.\n",
    "\n",
    "Q5. Can we create an instance of an abstract class? Explain your answer.\n",
    "No, you cannot create an instance of an abstract class. An abstract class is a class that cannot be instantiated on its own, but is intended to be subclassed and have its abstract methods implemented by the subclasses. The purpose of an abstract class is to provide a common interface for a set of related classes, but not to be used as a standalone object."
   ]
  },
  {
   "cell_type": "code",
   "execution_count": null,
   "id": "bd404f5f-ffab-4242-8928-5a2e4f9f8404",
   "metadata": {},
   "outputs": [],
   "source": []
  }
 ],
 "metadata": {
  "kernelspec": {
   "display_name": "Python 3 (ipykernel)",
   "language": "python",
   "name": "python3"
  },
  "language_info": {
   "codemirror_mode": {
    "name": "ipython",
    "version": 3
   },
   "file_extension": ".py",
   "mimetype": "text/x-python",
   "name": "python",
   "nbconvert_exporter": "python",
   "pygments_lexer": "ipython3",
   "version": "3.10.8"
  }
 },
 "nbformat": 4,
 "nbformat_minor": 5
}
