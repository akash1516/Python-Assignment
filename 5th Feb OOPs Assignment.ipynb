{
 "cells": [
  {
   "cell_type": "code",
   "execution_count": 1,
   "id": "96c7aeee-e02e-4926-825d-f27aa004543d",
   "metadata": {},
   "outputs": [
    {
     "data": {
      "text/plain": [
       "'\\nIn Object-Oriented Programming, a class is a blueprint or a template for creating objects. It defines the attributes and methods that an object \\nof that class can have. An object, on the other hand, is an instance of a class that has its own set of values for the attributes defined in the \\nclass and can invoke the methods of the class.\\n\\nExample\\n\\nThe class \"Car\" can have attributes such as brand, model, color, year, and methods such as start, stop, accelerate, and brake. These attributes and \\nmethods define what a car is and what it can do.\\n'"
      ]
     },
     "execution_count": 1,
     "metadata": {},
     "output_type": "execute_result"
    }
   ],
   "source": [
    "#Q1. Explain Class and Object with respect to Object-Oriented Programming. Give a suitable example.\n",
    "\n",
    "'''\n",
    "In Object-Oriented Programming, a class is a blueprint or a template for creating objects. It defines the attributes and methods that an object \n",
    "of that class can have. An object, on the other hand, is an instance of a class that has its own set of values for the attributes defined in the \n",
    "class and can invoke the methods of the class.\n",
    "\n",
    "Example\n",
    "\n",
    "The class \"Car\" can have attributes such as brand, model, color, year, and methods such as start, stop, accelerate, and brake. These attributes and \n",
    "methods define what a car is and what it can do.\n",
    "'''"
   ]
  },
  {
   "cell_type": "code",
   "execution_count": 2,
   "id": "39a33383-e414-445f-b68b-e79c7c7b43f3",
   "metadata": {},
   "outputs": [
    {
     "data": {
      "text/plain": [
       "'\\nThe four pillars of Object-Oriented Programming (OOP) are:\\n1.Encapsulation\\n2.Inheritance\\n3.Polymorphism\\n4.Abstraction\\n'"
      ]
     },
     "execution_count": 2,
     "metadata": {},
     "output_type": "execute_result"
    }
   ],
   "source": [
    "#Q2. Name the four pillars of OOPs.\n",
    "\n",
    "'''\n",
    "The four pillars of Object-Oriented Programming (OOP) are:\n",
    "1.Encapsulation\n",
    "2.Inheritance\n",
    "3.Polymorphism\n",
    "4.Abstraction\n",
    "'''"
   ]
  },
  {
   "cell_type": "code",
   "execution_count": 3,
   "id": "4c6f94f6-fb23-40ed-8ea3-e8b39c54af5f",
   "metadata": {},
   "outputs": [
    {
     "name": "stdout",
     "output_type": "stream",
     "text": [
      "A blue 2021 Toyota Corolla with 0 miles.\n"
     ]
    }
   ],
   "source": [
    "#Q3. Explain why the __init__() function is used. Give a suitable example.\n",
    "\n",
    "'''\n",
    "The __init__() function is used in Python classes as a constructor method. It is called when an object of a class is created and initializes the \n",
    "object's attributes with default or specified values.'''\n",
    "\n",
    "#example:\n",
    "class Car:\n",
    "    def __init__(self, make, model, year, color):\n",
    "        self.make = make\n",
    "        self.model = model\n",
    "        self.year = year\n",
    "        self.color = color\n",
    "        self.mileage = 0\n",
    "\n",
    "    def description(self):\n",
    "        return f\"A {self.color} {self.year} {self.make} {self.model} with {self.mileage} miles.\"\n",
    "\n",
    "my_car = Car(\"Toyota\", \"Corolla\", 2021, \"blue\")\n",
    "print(my_car.description())\n"
   ]
  },
  {
   "cell_type": "code",
   "execution_count": 4,
   "id": "94a44071-30cf-42d4-a72d-29e15dbb455e",
   "metadata": {},
   "outputs": [
    {
     "data": {
      "text/plain": [
       "'\\nIn Object-Oriented Programming (OOP), self is a reference to the instance of the class. It is a convention in Python to use self as the first parameter\\nin method definitions, and it allows instance methods to access and modify the attributes of that instance.\\n'"
      ]
     },
     "execution_count": 4,
     "metadata": {},
     "output_type": "execute_result"
    }
   ],
   "source": [
    "#Q4. Why self is used in OOPs?\n",
    "\n",
    "'''\n",
    "In Object-Oriented Programming (OOP), self is a reference to the instance of the class. It is a convention in Python to use self as the first parameter\n",
    "in method definitions, and it allows instance methods to access and modify the attributes of that instance.\n",
    "'''"
   ]
  },
  {
   "cell_type": "code",
   "execution_count": 5,
   "id": "eeaf56e6-7d82-4c18-99c9-cfcf38ca0de5",
   "metadata": {},
   "outputs": [
    {
     "name": "stdout",
     "output_type": "stream",
     "text": [
      "Fido\n",
      "Woof!\n",
      "Perry\n",
      "Quack!\n",
      "Fido\n",
      "Woof!\n",
      "Fluffy is eating\n",
      "Meow!\n",
      "Fido is eating\n",
      "Woof! Woof!\n"
     ]
    }
   ],
   "source": [
    "#Q5. What is inheritance? Give an example for each type of inheritance.\n",
    "'''\n",
    "Inheritance is a mechanism in Object-Oriented Programming (OOP) that allows a class to inherit properties and methods from another class. The class \n",
    "that inherits the properties and methods is called the child or derived class, and the class that provides the properties and methods is called the \n",
    "parent or base class.\n",
    "'''\n",
    "\n",
    "#1.Single inheritance: Single inheritance is when a derived class inherits properties and methods from a single parent class.\n",
    "class Animal:\n",
    "    def __init__(self, name):\n",
    "        self.name = name\n",
    "\n",
    "    def speak(self):\n",
    "        pass\n",
    "\n",
    "class Dog(Animal):\n",
    "    def speak(self):\n",
    "        return \"Woof!\"\n",
    "\n",
    "my_dog = Dog(\"Fido\")\n",
    "print(my_dog.name) # Output: Fido\n",
    "print(my_dog.speak()) # Output: Woof!\n",
    "\n",
    "#2.Multiple inheritance: Multiple inheritance is when a derived class inherits properties and methods from multiple parent classes.\n",
    "class Animal:\n",
    "    def __init__(self, name):\n",
    "        self.name = name\n",
    "\n",
    "    def speak(self):\n",
    "        pass\n",
    "\n",
    "class Mammal:\n",
    "    def give_birth(self):\n",
    "        pass\n",
    "\n",
    "class Platypus(Animal, Mammal):\n",
    "    def speak(self):\n",
    "        return \"Quack!\"\n",
    "\n",
    "my_platypus = Platypus(\"Perry\")\n",
    "print(my_platypus.name) # Output: Perry\n",
    "print(my_platypus.speak()) # Output: Quack!\n",
    "my_platypus.give_birth() # Output: no error\n",
    "\n",
    "#3.Multi-level inheritance: Multi-level inheritance is when a derived class inherits properties and methods from a parent class, which in turn \n",
    "#  inherits from another parent class.\n",
    "\n",
    "class Animal:\n",
    "    def __init__(self, name):\n",
    "        self.name = name\n",
    "\n",
    "    def speak(self):\n",
    "        pass\n",
    "\n",
    "class Mammal(Animal):\n",
    "    def give_birth(self):\n",
    "        pass\n",
    "\n",
    "class Dog(Mammal):\n",
    "    def speak(self):\n",
    "        return \"Woof!\"\n",
    "\n",
    "my_dog = Dog(\"Fido\")\n",
    "print(my_dog.name) # Output: Fido\n",
    "print(my_dog.speak()) # Output: Woof!\n",
    "my_dog.give_birth() # Output: no error\n",
    "\n",
    "#4.Hierarchical inheritance: Hierarchical inheritance is when multiple child classes inherit properties and methods from a single parent class.\n",
    "\n",
    "class Animal:\n",
    "    def __init__(self, name):\n",
    "        self.name = name\n",
    "    \n",
    "    def eat(self):\n",
    "        print(f\"{self.name} is eating\")\n",
    "\n",
    "class Cat(Animal):\n",
    "    def meow(self):\n",
    "        print(\"Meow!\")\n",
    "\n",
    "class Dog(Animal):\n",
    "    def bark(self):\n",
    "        print(\"Woof! Woof!\")\n",
    "\n",
    "my_cat = Cat(\"Fluffy\")\n",
    "my_cat.eat() # Output: Fluffy is eating\n",
    "my_cat.meow() # Output: Meow!\n",
    "\n",
    "my_dog = Dog(\"Fido\")\n",
    "my_dog.eat() # Output: Fido is eating\n",
    "my_dog.bark() # Output: Woof! Woof!\n",
    "\n",
    "\n"
   ]
  },
  {
   "cell_type": "code",
   "execution_count": null,
   "id": "f13c7738-d36c-44e0-8888-16f51b7f9891",
   "metadata": {},
   "outputs": [],
   "source": []
  }
 ],
 "metadata": {
  "kernelspec": {
   "display_name": "Python 3 (ipykernel)",
   "language": "python",
   "name": "python3"
  },
  "language_info": {
   "codemirror_mode": {
    "name": "ipython",
    "version": 3
   },
   "file_extension": ".py",
   "mimetype": "text/x-python",
   "name": "python",
   "nbconvert_exporter": "python",
   "pygments_lexer": "ipython3",
   "version": "3.10.8"
  }
 },
 "nbformat": 4,
 "nbformat_minor": 5
}
