{
 "cells": [
  {
   "cell_type": "markdown",
   "id": "6a8fac6c-fc74-4147-b3bb-f3432c5e0ffa",
   "metadata": {},
   "source": [
    "Q1, Create a vehicle class with an init method having instance variables as name_of_vehicle, max_speed\n",
    "and average_of_vehicle."
   ]
  },
  {
   "cell_type": "code",
   "execution_count": 1,
   "id": "f6d1e93b-53a4-4db4-a6a7-8b048adcd8a7",
   "metadata": {},
   "outputs": [],
   "source": [
    "class vehicle:\n",
    "    def __init__(self,name_of_vehicle,max_speed,average_of_vehicle):\n",
    "        self.name_of_vehicle=name_of_vehicle\n",
    "        self.max_speed=max_speed\n",
    "        self.average_of_vehicle=average_of_vehicle\n",
    "        "
   ]
  },
  {
   "cell_type": "code",
   "execution_count": 2,
   "id": "a7b7af93-5a56-4f93-acb5-0e9ddac5a365",
   "metadata": {},
   "outputs": [],
   "source": [
    "vehicle1=vehicle('Skoda',150,70)"
   ]
  },
  {
   "cell_type": "code",
   "execution_count": 3,
   "id": "94b6ce21-da6c-4538-be53-82a6e10b91c0",
   "metadata": {},
   "outputs": [
    {
     "name": "stdout",
     "output_type": "stream",
     "text": [
      "Skoda\n",
      "150\n",
      "70\n"
     ]
    }
   ],
   "source": [
    "print(vehicle1.name_of_vehicle)\n",
    "print(vehicle1.max_speed)\n",
    "print(vehicle1.average_of_vehicle)"
   ]
  },
  {
   "cell_type": "markdown",
   "id": "db17430a-7c6b-4574-83a6-87fdc3d25c70",
   "metadata": {},
   "source": [
    "Q2. Create a child class car from the vehicle class created in Que 1, which will inherit the vehicle class.\n",
    "Create a method named seating_capacity which takes capacity as an argument and returns the name of\n",
    "the vehicle and its seating capacity."
   ]
  },
  {
   "cell_type": "code",
   "execution_count": 4,
   "id": "aef29dfd-98b3-4639-bf5f-da4c4125bc0c",
   "metadata": {},
   "outputs": [],
   "source": [
    "#child class\n",
    "\n",
    "class car(vehicle):\n",
    "    def seating_capacity(self,capacity):\n",
    "        self.capacity=capacity\n",
    "        \n",
    "    def car_details(self):\n",
    "        return \"The car name is \" + self.name_of_vehicle + \" and seating capcity is \" + str(self.capacity)\n",
    "    "
   ]
  },
  {
   "cell_type": "code",
   "execution_count": 5,
   "id": "8403b930-299a-4721-af8f-bbf55d155f74",
   "metadata": {},
   "outputs": [
    {
     "name": "stdout",
     "output_type": "stream",
     "text": [
      "The car name is Toyota and seating capcity is 6\n"
     ]
    }
   ],
   "source": [
    "car1=car('Toyota',60,130)\n",
    "car1.seating_capacity(6)\n",
    "print(car1.car_details())"
   ]
  },
  {
   "cell_type": "markdown",
   "id": "eb89e19d-666c-42c2-b67d-406dd7149d61",
   "metadata": {},
   "source": [
    "Q3. What is multiple inheritance? Write a python code to demonstrate multiple inheritance."
   ]
  },
  {
   "cell_type": "markdown",
   "id": "4dc617ab-b53c-41c7-8da2-deb9898bbda1",
   "metadata": {},
   "source": [
    "Multiple inheritance is a feature in object-oriented programming where a class can inherit properties and methods from multiple parent classes."
   ]
  },
  {
   "cell_type": "code",
   "execution_count": 6,
   "id": "a2320591-35f5-4aa5-afe6-ae295feb4fcd",
   "metadata": {},
   "outputs": [
    {
     "name": "stdout",
     "output_type": "stream",
     "text": [
      "Sparrow is eating.\n",
      "Sparrow is flying.\n",
      "Sparrow is chirping.\n"
     ]
    }
   ],
   "source": [
    "class Animal:\n",
    "    def __init__(self, name):\n",
    "        self.name = name\n",
    "    \n",
    "    def eat(self):\n",
    "        print(f\"{self.name} is eating.\")\n",
    "    \n",
    "class Fly:\n",
    "    def fly(self):\n",
    "        print(f\"{self.name} is flying.\")\n",
    "    \n",
    "class Bird(Animal, Fly):\n",
    "    def __init__(self, name):\n",
    "        super().__init__(name)\n",
    "    \n",
    "    def chirp(self):\n",
    "        print(f\"{self.name} is chirping.\")\n",
    "\n",
    "bird = Bird(\"Sparrow\")\n",
    "bird.eat()\n",
    "bird.fly()\n",
    "bird.chirp()\n"
   ]
  },
  {
   "cell_type": "markdown",
   "id": "890ae988-c331-47c8-98de-315f4e761494",
   "metadata": {},
   "source": [
    "Q4. What are getter and setter in python? Create a class and create a getter and a setter method in this\n",
    "class."
   ]
  },
  {
   "cell_type": "markdown",
   "id": "6c71b60e-b601-47e0-97a1-d0e8cb6e4315",
   "metadata": {},
   "source": [
    "In Python, getters and setters are a way to encapsulate the access to the class's attributes. They are methods that allow us to get and set the values of private attributes.\n",
    "\n",
    "A getter is a method that gets the value of a private attribute, and a setter is a method that sets the value of a private attribute."
   ]
  },
  {
   "cell_type": "code",
   "execution_count": 7,
   "id": "09ee8b5e-d83b-40e0-8208-babe14497adb",
   "metadata": {},
   "outputs": [
    {
     "name": "stdout",
     "output_type": "stream",
     "text": [
      "Akash\n"
     ]
    }
   ],
   "source": [
    "class Person:\n",
    "    def __init__(self, name):\n",
    "        self.__name = name\n",
    "    \n",
    "    def get_name(self):\n",
    "        return self.__name\n",
    "    \n",
    "    def set_name(self, name):\n",
    "        self.__name = name\n",
    "\n",
    "        \n",
    "        \n",
    "person = Person(\"Akash\")\n",
    "print(person.get_name())  \n"
   ]
  },
  {
   "cell_type": "markdown",
   "id": "e7fd7506-e698-489b-a971-e772a064dcd8",
   "metadata": {},
   "source": [
    "Q5.What is method overriding in python? Write a python code to demonstrate method overriding."
   ]
  },
  {
   "cell_type": "markdown",
   "id": "d9873e54-ef13-45c7-b7a7-be5a3e44a18c",
   "metadata": {},
   "source": [
    "Method overriding is a feature in object-oriented programming where a subclass provides its own implementation of a method that is already defined in its parent class."
   ]
  },
  {
   "cell_type": "code",
   "execution_count": 8,
   "id": "01cc2e80-18d5-4549-b8e4-406356c644ab",
   "metadata": {},
   "outputs": [
    {
     "name": "stdout",
     "output_type": "stream",
     "text": [
      "The animal makes a sound.\n",
      "The dog barks.\n"
     ]
    }
   ],
   "source": [
    "class Animal:\n",
    "    def make_sound(self):\n",
    "        print(\"The animal makes a sound.\")\n",
    "    \n",
    "class Dog(Animal):\n",
    "    def make_sound(self):\n",
    "        print(\"The dog barks.\")\n",
    "\n",
    "animal = Animal()\n",
    "animal.make_sound()  \n",
    "\n",
    "dog = Dog()\n",
    "dog.make_sound() \n"
   ]
  },
  {
   "cell_type": "code",
   "execution_count": null,
   "id": "7b47c79c-1599-4079-a9d6-80942717ac7e",
   "metadata": {},
   "outputs": [],
   "source": []
  }
 ],
 "metadata": {
  "kernelspec": {
   "display_name": "Python 3 (ipykernel)",
   "language": "python",
   "name": "python3"
  },
  "language_info": {
   "codemirror_mode": {
    "name": "ipython",
    "version": 3
   },
   "file_extension": ".py",
   "mimetype": "text/x-python",
   "name": "python",
   "nbconvert_exporter": "python",
   "pygments_lexer": "ipython3",
   "version": "3.10.8"
  }
 },
 "nbformat": 4,
 "nbformat_minor": 5
}
