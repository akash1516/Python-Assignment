{
 "cells": [
  {
   "cell_type": "markdown",
   "id": "e646204b-a361-47da-bccb-1729729161ff",
   "metadata": {},
   "source": [
    "Q1. Create a function which will take a list as an argument and return the product of all the numbers after creating a flat list.\n",
    "Use the below-given list as an argument for your function.\n",
    "list1 = [1,2,3,4, [44,55,66, True], False, (34,56,78,89,34), {1,2,3,3,2,1}, {1:34, \"key2\": [55, 67, 78, 89], 4: (45,22, 61, 34)}, [56, 'datascience'], 'Machine Learning']"
   ]
  },
  {
   "cell_type": "code",
   "execution_count": 1,
   "id": "4caa432e-b612-4be5-a518-ca6564d23a5a",
   "metadata": {},
   "outputs": [],
   "source": [
    "from functools import reduce\n",
    "def get_product(my_list):\n",
    "    flat_list=faltten(my_list)\n",
    "    print(\"flat list = \",flat_list)\n",
    "    print(reduce(lambda x,y:x*y,flat_list))\n",
    "def faltten(ilist):\n",
    "    flat=[]\n",
    "    for i in ilist:\n",
    "        if type(i)==int:\n",
    "            flat.append(i)\n",
    "        elif type(i) in [list,set,tuple]:\n",
    "            for j in i:\n",
    "                if type(j)==int:\n",
    "                    flat.append(j)\n",
    "        elif type(i)==dict:\n",
    "            key_list=list(i.keys())\n",
    "            value_list=list(i.values())\n",
    "            for k in key_list:\n",
    "                if type(k)==int:\n",
    "                    flat.append(k)\n",
    "            for v in value_list:\n",
    "                if type(v)==int:\n",
    "                    flat.append(v)\n",
    "                elif type(v) in [list,tuple,set]:\n",
    "                     for s in v:\n",
    "                        if type(s)==int:\n",
    "                            flat.append(s)\n",
    "    return flat"
   ]
  },
  {
   "cell_type": "code",
   "execution_count": 2,
   "id": "8ae422fc-447d-46c0-a032-12351ffe80c9",
   "metadata": {},
   "outputs": [
    {
     "name": "stdout",
     "output_type": "stream",
     "text": [
      "flat list =  [1, 2, 3, 4, 44, 55, 66, 34, 56, 78, 89, 34, 1, 2, 3, 1, 4, 34, 55, 67, 78, 89, 45, 22, 61, 34, 56]\n",
      "4134711838987085478833841242112000\n"
     ]
    }
   ],
   "source": [
    "list1 = [1,2,3,4, [44,55,66, True], False, (34,56,78,89,34), {1,2,3,3,2,1}, {1:34, \"key2\": [55, 67, 78, 89], 4: (45,22, 61, 34)}, [56, 'datascience'], 'Machine Learning']\n",
    "get_product(list1)"
   ]
  },
  {
   "cell_type": "markdown",
   "id": "9c1c11f9-13f3-4ff9-b4cc-759f04918473",
   "metadata": {},
   "source": [
    "Q2. Write a python program for encrypting a message sent to you by your friend. The logic of encryption\n",
    "should be such that, for a the output should be z. For b, the output should be y. For c, the output should\n",
    "be x respectively. Also, the whitespace should be replaced with a dollar sign. Keep the punctuation\n",
    "marks unchanged.\n",
    "Input Sentence: I want to become a Data Scientist.\n",
    "Encrypt the above input sentence using the program you just created.\n",
    "Note: Convert the given input sentence into lowercase before encrypting. The final output should be\n",
    "lowercase."
   ]
  },
  {
   "cell_type": "code",
   "execution_count": 3,
   "id": "0c7b0726-0684-41a0-9cd6-128254263ca2",
   "metadata": {},
   "outputs": [],
   "source": [
    "def sentence_mapping(sentence):\n",
    "    l_sentence=sentence.lower()\n",
    "    \n",
    "    #print(l_sentence)\n",
    "    char_mapped_array={}\n",
    "    for i in range(26):\n",
    "        char_mapped_array[chr(i + ord('a'))] = chr((25-i) + ord('a'))\n",
    "    char_mapped_array[' ']='$'\n",
    "    #print(char_mapped_array)\n",
    "    map_sentence=''\n",
    "    for i in l_sentence:\n",
    "        if i in char_mapped_array:\n",
    "            map_sentence+=char_mapped_array[i]\n",
    "        else:\n",
    "            map_sentence+=i\n",
    "    print(map_sentence)\n"
   ]
  },
  {
   "cell_type": "code",
   "execution_count": 4,
   "id": "e043218a-c1a2-4c55-b44e-e6333f17f857",
   "metadata": {},
   "outputs": [
    {
     "name": "stdout",
     "output_type": "stream",
     "text": [
      "r$dzmg$gl$yvxlnv$z$wzgz$hxrvmgrhg.\n"
     ]
    }
   ],
   "source": [
    "my_sentence=\"I want to become a Data Scientist.\"\n",
    "sentence_mapping(my_sentence)"
   ]
  },
  {
   "cell_type": "code",
   "execution_count": null,
   "id": "3a791a8d-621d-4ae0-b3d1-4cd23af87fab",
   "metadata": {},
   "outputs": [],
   "source": []
  }
 ],
 "metadata": {
  "kernelspec": {
   "display_name": "Python 3 (ipykernel)",
   "language": "python",
   "name": "python3"
  },
  "language_info": {
   "codemirror_mode": {
    "name": "ipython",
    "version": 3
   },
   "file_extension": ".py",
   "mimetype": "text/x-python",
   "name": "python",
   "nbconvert_exporter": "python",
   "pygments_lexer": "ipython3",
   "version": "3.10.8"
  }
 },
 "nbformat": 4,
 "nbformat_minor": 5
}
