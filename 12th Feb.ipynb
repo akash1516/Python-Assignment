{
 "cells": [
  {
   "cell_type": "markdown",
   "id": "277ef53a-671b-4c33-bfcb-c0bfab89f1e1",
   "metadata": {},
   "source": [
    "Q1. What is Exception in pthon? Write the difference  between Exceptions and syntax errors?\n",
    "\n",
    "In Python, an Exception is an error that occurs during the execution of a program. It is an indication that something unexpected or erroneous has happened while the program is running. When an Exception occurs, the program stops running and an error message is displayed.\n",
    "\n",
    "On the other hand, a syntax error is a type of error that occurs when the Python interpreter is unable to parse the code due to a mistake in the syntax. A syntax error is typically detected before the program is run, and it prevents the program from being executed.\n",
    "\n",
    "The main difference between Exceptions and syntax errors is that syntax errors are caused by mistakes in the code itself, while Exceptions are caused by external factors such as input data or system issues. Exceptions can also occur during the execution of a program, while syntax errors occur before the program is run."
   ]
  },
  {
   "cell_type": "markdown",
   "id": "9a7a8fc6-4d50-4a6a-bdba-18ae98ed7127",
   "metadata": {},
   "source": [
    "Q2. What happens when an exception is not handled? Explain with an example?\n",
    "\n",
    "When an exception is not handled in Python, the program will terminate with an error message. This is because the exception is propagated up through the call stack until it reaches the main function or the interpreter, where it is not caught by any exception handler.\n",
    "\n",
    "def divide_numbers(a, b):\n",
    "    result = a / b\n",
    "    return result\n",
    "\n",
    "\n",
    "def do_division():\n",
    "    result = divide_numbers(10, 0)\n",
    "    print(result)\n",
    "\n",
    "do_division()\n"
   ]
  },
  {
   "cell_type": "markdown",
   "id": "2f2c81fe-ab6b-4f64-b83c-ee369acec1b5",
   "metadata": {},
   "source": [
    "Q3. Which Python statements are used to catch and handle Exceptions? Explain with an Example?\n",
    "\n",
    "Python provides two statements to handle exceptions: try/except and raise.\n",
    "\n",
    "The try/except statement is used to catch and handle exceptions that occur during the execution of a block of code.\n",
    "\n",
    "\n",
    "def divide_numbers(a, b):\n",
    "    try:\n",
    "        result = a / b\n",
    "    except ZeroDivisionError:\n",
    "        print(\"Error: division by zero\")\n",
    "    else:\n",
    "        return result\n",
    "\n",
    "print(divide_numbers(10, 0))\n",
    "print(divide_numbers(10, 2))\n"
   ]
  },
  {
   "cell_type": "markdown",
   "id": "e6e11061-7f87-4ea8-a331-d155b2d49dc8",
   "metadata": {},
   "source": [
    "Q4. Explain with an example:\n",
    " 1. try and else\n",
    " 2. finally\n",
    " 3.  raise\n",
    "\n",
    "\n",
    "1. The try and else statements are used together to provide a block of code that is executed when no exceptions are raised in the try block. Here's an example:\n",
    "\n",
    "try:\n",
    "    x = 1 / 0\n",
    "except ZeroDivisionError:\n",
    "    print(\"Error: division by zero\")\n",
    "else:\n",
    "    print(\"No exception occurred\")\n",
    "\n",
    "\n",
    "2. The finally statement is used to provide a block of code that is always executed, regardless of whether an exception is raised in the try block or not\n",
    "\n",
    "try:\n",
    "    x = 1 / 0\n",
    "except ZeroDivisionError:\n",
    "    print(\"Error: division by zero\")\n",
    "finally:\n",
    "    print(\"This will always be executed\")\n",
    "\n",
    "\n",
    "3.  The raise statement is used to raise an exception manually.\n",
    "\n",
    "def validate_age(age):\n",
    "    if age < 0:\n",
    "        raise ValueError(\"Age cannot be negative\")\n",
    "    elif age > 120:\n",
    "        raise ValueError(\"Age cannot be greater than 120\")\n",
    "    else:\n",
    "        print(\"Valid age\")\n",
    "\n",
    "try:\n",
    "    validate_age(25)\n",
    "    validate_age(-10)\n",
    "    validate_age(150)\n",
    "except ValueError as e:\n",
    "    print(e)\n"
   ]
  },
  {
   "cell_type": "markdown",
   "id": "ce90ccb4-fe14-4b91-834a-7a56233eab33",
   "metadata": {},
   "source": [
    "Q5.....\n",
    "\n",
    "Custom exceptions in Python are user-defined exceptions that are created by subclassing the built-in Exception class or one of its subclasses. They are used when none of the built-in exceptions are suitable for a particular situation or when it is necessary to add more specific information to the error message.\n",
    "\n",
    "class FileOpenError(Exception):\n",
    "    pass\n",
    "\n",
    "def read_file(filename):\n",
    "    try:\n",
    "        with open(filename, 'r') as f:\n",
    "            data = f.read()\n",
    "        return data\n",
    "    except IOError:\n",
    "        raise FileOpenError(f\"Could not open file: {filename}\")\n",
    "\n",
    "try:\n",
    "    read_file('nonexistentfile.txt')\n",
    "except FileOpenError as e:\n",
    "    print(e)\n"
   ]
  },
  {
   "cell_type": "markdown",
   "id": "cb2fb128-0849-4312-a4b7-9297db7cd286",
   "metadata": {},
   "source": [
    "Q6--------------\n",
    "\n",
    "class FileOpenError(Exception):\n",
    "    pass\n",
    "\n",
    "def read_file(filename):\n",
    "    try:\n",
    "        with open(filename, 'r') as f:\n",
    "            data = f.read()\n",
    "        return data\n",
    "    except IOError:\n",
    "        raise FileOpenError(f\"Could not open file: {filename}\")\n",
    "\n",
    "try:\n",
    "    read_file('nonexistentfile.txt')\n",
    "except FileOpenError as e:\n",
    "    print(e)\n"
   ]
  },
  {
   "cell_type": "code",
   "execution_count": null,
   "id": "514a1df2-2117-42ed-92e1-1dac2d3aa3b0",
   "metadata": {},
   "outputs": [],
   "source": []
  }
 ],
 "metadata": {
  "kernelspec": {
   "display_name": "Python 3 (ipykernel)",
   "language": "python",
   "name": "python3"
  },
  "language_info": {
   "codemirror_mode": {
    "name": "ipython",
    "version": 3
   },
   "file_extension": ".py",
   "mimetype": "text/x-python",
   "name": "python",
   "nbconvert_exporter": "python",
   "pygments_lexer": "ipython3",
   "version": "3.10.8"
  }
 },
 "nbformat": 4,
 "nbformat_minor": 5
}
