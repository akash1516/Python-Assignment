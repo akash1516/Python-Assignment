{
 "cells": [
  {
   "cell_type": "code",
   "execution_count": 1,
   "id": "2b26f95a-fb60-4cc7-a187-9a53e77097fb",
   "metadata": {},
   "outputs": [
    {
     "data": {
      "text/plain": [
       "'\\nPython was developed by Guido van Rossum.\\n'"
      ]
     },
     "execution_count": 1,
     "metadata": {},
     "output_type": "execute_result"
    }
   ],
   "source": [
    "#Q1.Who developed python programming language?\n",
    "'''\n",
    "Python was developed by Guido van Rossum.\n",
    "'''\n"
   ]
  },
  {
   "cell_type": "code",
   "execution_count": 2,
   "id": "d681b301-03fe-4841-b5b3-0d863c10cdc0",
   "metadata": {},
   "outputs": [
    {
     "data": {
      "text/plain": [
       "'\\nPython is an interpreted programming language, supporting object-oriented, structured, and functional programming.\\n'"
      ]
     },
     "execution_count": 2,
     "metadata": {},
     "output_type": "execute_result"
    }
   ],
   "source": [
    "#Q2. Which type of programming does python support?\n",
    "'''\n",
    "Python is an interpreted programming language, supporting object-oriented, structured, and functional programming.\n",
    "'''"
   ]
  },
  {
   "cell_type": "code",
   "execution_count": 3,
   "id": "9c0ada54-202f-41f3-92b9-1d7d18629f6e",
   "metadata": {},
   "outputs": [
    {
     "data": {
      "text/plain": [
       "'\\nYes, Python is a case-sensitive language when it comes to identifiers, such as variable names, function names, and class names.\\n'"
      ]
     },
     "execution_count": 3,
     "metadata": {},
     "output_type": "execute_result"
    }
   ],
   "source": [
    "#Q3. Is python case sensitive dealing with identifiers?\n",
    "\n",
    "'''\n",
    "Yes, Python is a case-sensitive language when it comes to identifiers, such as variable names, function names, and class names.\n",
    "'''"
   ]
  },
  {
   "cell_type": "code",
   "execution_count": 4,
   "id": "58cd74d1-7e9d-4f10-a2dc-be85d69b693e",
   "metadata": {},
   "outputs": [
    {
     "data": {
      "text/plain": [
       "'\\nThe correct extension for a Python file is \".py\".\\n'"
      ]
     },
     "execution_count": 4,
     "metadata": {},
     "output_type": "execute_result"
    }
   ],
   "source": [
    "#4. What is correct extension of python file?\n",
    "'''\n",
    "The correct extension for a Python file is \".py\".\n",
    "'''"
   ]
  },
  {
   "cell_type": "code",
   "execution_count": 5,
   "id": "9d40e120-e451-44d3-bef9-1d9878f96f2c",
   "metadata": {},
   "outputs": [
    {
     "data": {
      "text/plain": [
       "'\\nPython code is interpreted, not compiled.\\n'"
      ]
     },
     "execution_count": 5,
     "metadata": {},
     "output_type": "execute_result"
    }
   ],
   "source": [
    "#5. Is python code compiled or interpreted?\n",
    "'''\n",
    "Python code is interpreted, not compiled.\n",
    "'''\n"
   ]
  },
  {
   "cell_type": "code",
   "execution_count": 6,
   "id": "4ca073f7-008e-45c5-976d-034b1e6c1f58",
   "metadata": {},
   "outputs": [
    {
     "data": {
      "text/plain": [
       "'\\n1.Function definitions: \\n        def greet(name):\\n            print(\"Hello, \" + name + \"!\")\\n            \\n2.Conditional statements:\\n        if x > 0:\\n            print(\"x is positive\")\\n        elif x == 0:\\n            print(\"x is zero\")\\n        else:\\n            print(\"x is negative\")\\n            \\n3.Loops:\\n        for i in range(10):\\n                print(i)\\n\\n4.Class definitions:\\n        class Car:\\n            def __init__(self, make, model):\\n            self.make = make\\n            self.model = model\\n\\n\\n'"
      ]
     },
     "execution_count": 6,
     "metadata": {},
     "output_type": "execute_result"
    }
   ],
   "source": [
    "#6. Name a few blocks of code usd to define in pythin language?\n",
    "'''\n",
    "1.Function definitions: \n",
    "        def greet(name):\n",
    "            print(\"Hello, \" + name + \"!\")\n",
    "            \n",
    "2.Conditional statements:\n",
    "        if x > 0:\n",
    "            print(\"x is positive\")\n",
    "        elif x == 0:\n",
    "            print(\"x is zero\")\n",
    "        else:\n",
    "            print(\"x is negative\")\n",
    "            \n",
    "3.Loops:\n",
    "        for i in range(10):\n",
    "                print(i)\n",
    "\n",
    "4.Class definitions:\n",
    "        class Car:\n",
    "            def __init__(self, make, model):\n",
    "            self.make = make\n",
    "            self.model = model\n",
    "\n",
    "\n",
    "'''"
   ]
  },
  {
   "cell_type": "code",
   "execution_count": 7,
   "id": "56a64a43-14a8-4292-b71d-6269b9e5cf80",
   "metadata": {},
   "outputs": [
    {
     "data": {
      "text/plain": [
       "'\\nThe character \"#\" is used to indicate a single-line comment.\\n'"
      ]
     },
     "execution_count": 7,
     "metadata": {},
     "output_type": "execute_result"
    }
   ],
   "source": [
    "#7. state a character use to give single line comments in python?\n",
    "\n",
    "'''\n",
    "The character \"#\" is used to indicate a single-line comment.\n",
    "'''"
   ]
  },
  {
   "cell_type": "code",
   "execution_count": 8,
   "id": "904a552d-3af1-4eec-91f3-40034094cda4",
   "metadata": {},
   "outputs": [
    {
     "data": {
      "text/plain": [
       "'\\nplatform.python_version(): This function returns the version of Python as a string. \\n'"
      ]
     },
     "execution_count": 8,
     "metadata": {},
     "output_type": "execute_result"
    }
   ],
   "source": [
    "#8. Mention functions which can help us to find the version of python that we are currently working on?\n",
    "'''\n",
    "platform.python_version(): This function returns the version of Python as a string. \n",
    "'''"
   ]
  },
  {
   "cell_type": "code",
   "execution_count": 9,
   "id": "5b6b594b-19f2-4973-958e-914c060fd69d",
   "metadata": {},
   "outputs": [
    {
     "data": {
      "text/plain": [
       "'\\nPython supports the creation of Anonymous function at runtime using a construct called \"lambda\".\\n'"
      ]
     },
     "execution_count": 9,
     "metadata": {},
     "output_type": "execute_result"
    }
   ],
   "source": [
    "#9. Python supports the creation of Anonymous function at runtime using a construct called_________.\n",
    "'''\n",
    "Python supports the creation of Anonymous function at runtime using a construct called \"lambda\".\n",
    "'''"
   ]
  },
  {
   "cell_type": "code",
   "execution_count": 10,
   "id": "19a460d4-42ba-4e92-b285-69483a28e9ef",
   "metadata": {},
   "outputs": [
    {
     "data": {
      "text/plain": [
       "'\\n \"pip\" stands for \"Pip Installs Packages\".\\n'"
      ]
     },
     "execution_count": 10,
     "metadata": {},
     "output_type": "execute_result"
    }
   ],
   "source": [
    "#10. What does pip satnd for python?\n",
    "'''\n",
    " \"pip\" stands for \"Pip Installs Packages\".\n",
    "'''"
   ]
  },
  {
   "cell_type": "code",
   "execution_count": 11,
   "id": "64d307af-9ac8-474f-bee2-6ae0cf7355ce",
   "metadata": {},
   "outputs": [
    {
     "data": {
      "text/plain": [
       "'\\n1.print()\\n2.input()\\n3.type()\\n4.len()\\n5.range()\\netc.\\n'"
      ]
     },
     "execution_count": 11,
     "metadata": {},
     "output_type": "execute_result"
    }
   ],
   "source": [
    "#11. Mention a few builtin function in python?\n",
    "'''\n",
    "1.print()\n",
    "2.input()\n",
    "3.type()\n",
    "4.len()\n",
    "5.range()\n",
    "etc.\n",
    "'''\n"
   ]
  },
  {
   "cell_type": "code",
   "execution_count": 12,
   "id": "1a2699fe-3b05-44e1-984f-fa8649cdc3b9",
   "metadata": {},
   "outputs": [
    {
     "data": {
      "text/plain": [
       "'\\nAs there is no limit for length of an identifier in python but  it is generally recommended to keep the length of identifiers to a reasonable limit \\nfor readability and maintainability.\\n'"
      ]
     },
     "execution_count": 12,
     "metadata": {},
     "output_type": "execute_result"
    }
   ],
   "source": [
    "#12. What is maximum possible length of an identifier in python?\n",
    "'''\n",
    "79 characters\n",
    "'''"
   ]
  },
  {
   "cell_type": "code",
   "execution_count": 13,
   "id": "3bd5a548-6c0e-48d2-b553-cc2eaffe989f",
   "metadata": {},
   "outputs": [
    {
     "data": {
      "text/plain": [
       "'\\n1. Simple and Easy to learn\\n2. Portable and Extensible\\n3. Object-Oriented Programming\\n4. Artificial Intelligence\\n5. Big Data\\n'"
      ]
     },
     "execution_count": 13,
     "metadata": {},
     "output_type": "execute_result"
    }
   ],
   "source": [
    "#13. What are the benefits of using Python?\n",
    "'''\n",
    "1. Simple and Easy to learn\n",
    "2. Portable and Extensible\n",
    "3. Object-Oriented Programming\n",
    "4. Artificial Intelligence\n",
    "5. Big Data\n",
    "'''"
   ]
  },
  {
   "cell_type": "code",
   "execution_count": 14,
   "id": "b7944b65-a73b-4abf-91fa-80bf8f6bc69e",
   "metadata": {},
   "outputs": [
    {
     "data": {
      "text/plain": [
       "'\\nMemory in Python is managed by Python private heap space. All Python objects and data structures are located in a private heap. This private heap is \\ntaken care of by Python Interpreter itself, and a programmer doesn’t have access to this private heap. Python memory manager takes care of the \\nallocation of Python private heap space.\\n'"
      ]
     },
     "execution_count": 14,
     "metadata": {},
     "output_type": "execute_result"
    }
   ],
   "source": [
    "#14. How is memory managed in Python?\n",
    "'''\n",
    "Memory in Python is managed by Python private heap space. All Python objects and data structures are located in a private heap. This private heap is \n",
    "taken care of by Python Interpreter itself, and a programmer doesn’t have access to this private heap. Python memory manager takes care of the \n",
    "allocation of Python private heap space.\n",
    "'''"
   ]
  },
  {
   "cell_type": "code",
   "execution_count": 15,
   "id": "7d0b0fd2-7d5c-426e-bb19-e87c5395e145",
   "metadata": {},
   "outputs": [
    {
     "data": {
      "text/plain": [
       "'\\n1.Download the latest version of Python for Windows from the official Python website (https://www.python.org/downloads/windows/).\\n2.Run the installer and follow the prompts to install Python. During the installation process, you will be asked to select various options, such as the installation location and the components to install. You can leave the default options selected for most settings.\\n3.After the installation is complete, open the Windows Start menu and search for \"Environment Variables\". Click on \"Edit the system environment variables\".\\n4.Click on the \"Environment Variables\" button in the \"System Properties\" window.\\n5.In the \"Environment Variables\" window, scroll down to the \"System Variables\" section and click on the \"Path\" variable. Click on the \"Edit\" button.\\n6.In the \"Edit Environment Variable\" window, click on the \"New\" button and enter the path to the Python installation directory. For example, if you installed Python in the default location, the path should be \"C:\\\\Python38\".\\n7.Click \"OK\" to close all windows.\\n'"
      ]
     },
     "execution_count": 15,
     "metadata": {},
     "output_type": "execute_result"
    }
   ],
   "source": [
    "#15. How to install Python on Windows and set path variables?\n",
    "'''\n",
    "1.Download the latest version of Python for Windows from the official Python website (https://www.python.org/downloads/windows/).\n",
    "2.Run the installer and follow the prompts to install Python. During the installation process, you will be asked to select various options, such as the installation location and the components to install. You can leave the default options selected for most settings.\n",
    "3.After the installation is complete, open the Windows Start menu and search for \"Environment Variables\". Click on \"Edit the system environment variables\".\n",
    "4.Click on the \"Environment Variables\" button in the \"System Properties\" window.\n",
    "5.In the \"Environment Variables\" window, scroll down to the \"System Variables\" section and click on the \"Path\" variable. Click on the \"Edit\" button.\n",
    "6.In the \"Edit Environment Variable\" window, click on the \"New\" button and enter the path to the Python installation directory. For example, if you installed Python in the default location, the path should be \"C:\\Python38\".\n",
    "7.Click \"OK\" to close all windows.\n",
    "'''"
   ]
  },
  {
   "cell_type": "code",
   "execution_count": 16,
   "id": "8d831a92-f90e-4550-9a1e-1e7922a03e01",
   "metadata": {},
   "outputs": [
    {
     "data": {
      "text/plain": [
       "'\\nIndentation refers to the spaces at the beginning of a code line. Where in other programming languages the indentation in code is for readability \\nonly, for Python is very important. Python uses indentation to indicate a block of code.\\n'"
      ]
     },
     "execution_count": 16,
     "metadata": {},
     "output_type": "execute_result"
    }
   ],
   "source": [
    "#16. Is indentation is required for the python?\n",
    "'''\n",
    "Indentation refers to the spaces at the beginning of a code line. Where in other programming languages the indentation in code is for readability \n",
    "only, for Python is very important. Python uses indentation to indicate a block of code.\n",
    "'''"
   ]
  },
  {
   "cell_type": "code",
   "execution_count": null,
   "id": "07f80f4d-d253-41a9-ae80-d79961410404",
   "metadata": {},
   "outputs": [],
   "source": []
  }
 ],
 "metadata": {
  "kernelspec": {
   "display_name": "Python 3 (ipykernel)",
   "language": "python",
   "name": "python3"
  },
  "language_info": {
   "codemirror_mode": {
    "name": "ipython",
    "version": 3
   },
   "file_extension": ".py",
   "mimetype": "text/x-python",
   "name": "python",
   "nbconvert_exporter": "python",
   "pygments_lexer": "ipython3",
   "version": "3.10.8"
  }
 },
 "nbformat": 4,
 "nbformat_minor": 5
}
