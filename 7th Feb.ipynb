{
 "cells": [
  {
   "cell_type": "markdown",
   "id": "dc64d334-3aaf-42a1-ae33-d433d12538c6",
   "metadata": {},
   "source": [
    "Q1. You are writing code for a company. The requirement of the company is that you create a python\n",
    "function that will check whether the password entered by the user is correct or not. The function should\n",
    "take the password as input and return the string “Valid Password” if the entered password follows the\n",
    "below-given password guidelines else it should return “Invalid Password”.\n",
    "Note: 1. The Password should contain at least two uppercase letters and at least two lowercase letters.\n",
    "2. The Password should contain at least a number and three special characters.\n",
    "3. The length of the password should be 10 characters long."
   ]
  },
  {
   "cell_type": "code",
   "execution_count": 1,
   "id": "f851e768-a722-4494-be9e-fc6a50500a6d",
   "metadata": {},
   "outputs": [],
   "source": [
    "import re\n",
    "\n",
    "def check_password(password):\n",
    "    # Check if the password meets all the requirements\n",
    "    if len(password) != 10:\n",
    "        return \"Invalid PasswordA\"\n",
    "    if not re.search(\"[a-z]{2,}\", password):\n",
    "        return \"Invalid PasswordB\"\n",
    "    if not re.search(\"[A-Z]{2,}\", password):\n",
    "        return \"Invalid PasswordC\"\n",
    "    if not re.search(\"[0-9]\", password):\n",
    "        return \"Invalid PasswordD\"\n",
    "    if not re.search(\"[!@#$%^&*()_+{}:;\\\"\\'<>,.?/|\\\\-]{3,}\", password):\n",
    "        return \"Invalid PasswordE\"\n",
    "    \n",
    "    \n",
    "    return \"Valid Password\"\n"
   ]
  },
  {
   "cell_type": "code",
   "execution_count": 2,
   "id": "80ce1e1e-775d-4984-9a58-602342a1f723",
   "metadata": {},
   "outputs": [
    {
     "name": "stdout",
     "output_type": "stream",
     "text": [
      "Valid Password\n"
     ]
    }
   ],
   "source": [
    "my_password=\"AKash@@@12\"\n",
    "print(check_password(my_password))"
   ]
  },
  {
   "cell_type": "markdown",
   "id": "f96f4afb-5acc-4706-919f-61d66b5c14f6",
   "metadata": {},
   "source": [
    "Q2. Solve the below-given questions using at least one of the following:\n",
    "1. Lambda functioJ\n",
    "2. Filter functioJ\n",
    "3. Zap functioJ\n",
    "4. List ComprehensioI\n",
    "\n",
    ". Check if the string starts with a particular letterY\n",
    ". Check if the string is numericY\n",
    ". Sort a list of tuples having fruit names and their quantity. [(\"mango\",99),(\"orange\",80), (\"grapes\", 1000)]\n",
    ". Find the squares of numbers from 1 to 10Y\n",
    ". Find the cube root of numbers from 1 to 10Y\n",
    ". Check if a given number is evenY\n",
    ". Filter odd numbers from the given list.[1,2,3,4,5,6,7,8,9,10]\n",
    ". Sort a list of integers into positive and negative integers lists.[1,2,3,4,5,6,-1,-2,-3,-4,-5,0]"
   ]
  },
  {
   "cell_type": "code",
   "execution_count": 3,
   "id": "d9a893e1-8631-413d-b081-436e58b6c7ce",
   "metadata": {},
   "outputs": [
    {
     "name": "stdout",
     "output_type": "stream",
     "text": [
      "True\n",
      "False\n"
     ]
    }
   ],
   "source": [
    "#Ans> 1.Check if the string starts with a particular letter:\n",
    "check_start=lambda word,letter:word[0]==letter\n",
    "print(check_start('akash','a'))\n",
    "print(check_start('akash','A'))\n"
   ]
  },
  {
   "cell_type": "code",
   "execution_count": 4,
   "id": "56a87200-2acd-44ae-a5ae-b7a7ca502a79",
   "metadata": {},
   "outputs": [
    {
     "name": "stdout",
     "output_type": "stream",
     "text": [
      "True\n",
      "False\n"
     ]
    }
   ],
   "source": [
    "#2.Check if the string is numeric:\n",
    "check_string_numeric=lambda word:word.isdigit()\n",
    "print(check_string_numeric('123'))\n",
    "print(check_string_numeric('abc'))"
   ]
  },
  {
   "cell_type": "code",
   "execution_count": 5,
   "id": "5a6b5e2d-c626-4bc3-9cbf-888ad616df76",
   "metadata": {},
   "outputs": [
    {
     "name": "stdout",
     "output_type": "stream",
     "text": [
      "[('orange', 80), ('mango', 99), ('grapes', 1000)]\n"
     ]
    }
   ],
   "source": [
    "#3.Sort a list of tuples having fruit names and their quantity:\n",
    "fruits = [(\"mango\", 99), (\"orange\", 80), (\"grapes\", 1000)]\n",
    "sorted_fruits = sorted(fruits, key=lambda x: x[1])\n",
    "print(sorted_fruits)"
   ]
  },
  {
   "cell_type": "code",
   "execution_count": 6,
   "id": "3a38dedf-af43-4379-a0c4-4d0684b65baa",
   "metadata": {},
   "outputs": [
    {
     "name": "stdout",
     "output_type": "stream",
     "text": [
      "[1, 4, 9, 16, 25, 36, 49, 64, 81, 100]\n"
     ]
    }
   ],
   "source": [
    "#4.Find the squares of numbers from 1 to 10:\n",
    "\n",
    "def square(x):\n",
    "    return x**2\n",
    "\n",
    "my_list=[1,2,3,4,5,6,7,8,9,10]\n",
    "square_list=list(map(square,my_list))\n",
    "print(square_list)"
   ]
  },
  {
   "cell_type": "code",
   "execution_count": 7,
   "id": "182af9ec-4fd4-4783-97ce-05439137eae7",
   "metadata": {},
   "outputs": [
    {
     "name": "stdout",
     "output_type": "stream",
     "text": [
      "[1, 8, 27, 64, 125, 216, 343, 512, 729, 1000]\n"
     ]
    }
   ],
   "source": [
    "#5.Find the cube root of numbers from 1 to 10:\n",
    "def cube(x):\n",
    "    return x**3\n",
    "\n",
    "my_list=[1,2,3,4,5,6,7,8,9,10]\n",
    "cube_list=list(map(cube,my_list))\n",
    "print(cube_list)"
   ]
  },
  {
   "cell_type": "code",
   "execution_count": 8,
   "id": "fc0309c0-e3e3-4dfd-8ca3-0a3c4bf8d430",
   "metadata": {},
   "outputs": [
    {
     "name": "stdout",
     "output_type": "stream",
     "text": [
      "True\n",
      "False\n"
     ]
    }
   ],
   "source": [
    "#6.Check if a given number is even:\n",
    "\n",
    "is_even=lambda n:n%2==0\n",
    "\n",
    "print(is_even(2)) \n",
    "print(is_even(3))"
   ]
  },
  {
   "cell_type": "code",
   "execution_count": 9,
   "id": "bf064fab-23f1-45db-a87e-04bde0e8ce55",
   "metadata": {},
   "outputs": [
    {
     "name": "stdout",
     "output_type": "stream",
     "text": [
      "[1, 3, 5, 7, 9]\n"
     ]
    }
   ],
   "source": [
    "#7.Filter odd numbers from the given list:\n",
    "\n",
    "numbers = [1, 2, 3, 4, 5, 6, 7, 8, 9, 10]\n",
    "odd_numbers = [x for x in numbers if x % 2 != 0]\n",
    "print(odd_numbers)"
   ]
  },
  {
   "cell_type": "code",
   "execution_count": 10,
   "id": "980f1fd4-33cd-4ff5-a6a6-117026b86794",
   "metadata": {},
   "outputs": [
    {
     "name": "stdout",
     "output_type": "stream",
     "text": [
      "[1, 2, 3, 4, 5, 6]\n",
      "[-1, -2, -3, -4, -5]\n"
     ]
    }
   ],
   "source": [
    "#8.Sort a list of integers into positive and negative integers lists:\n",
    "\n",
    "numbers = [1, 2, 3, 4, 5, 6, -1, -2, -3, -4, -5, 0]\n",
    "\n",
    "positive_numbers = [x for x in numbers if x > 0]\n",
    "negative_numbers = [x for x in numbers if x < 0]\n",
    "\n",
    "print(positive_numbers)\n",
    "print(negative_numbers)"
   ]
  },
  {
   "cell_type": "code",
   "execution_count": null,
   "id": "05cbb7da-87b7-4ee4-9d0e-89d815b34022",
   "metadata": {},
   "outputs": [],
   "source": []
  }
 ],
 "metadata": {
  "kernelspec": {
   "display_name": "Python 3 (ipykernel)",
   "language": "python",
   "name": "python3"
  },
  "language_info": {
   "codemirror_mode": {
    "name": "ipython",
    "version": 3
   },
   "file_extension": ".py",
   "mimetype": "text/x-python",
   "name": "python",
   "nbconvert_exporter": "python",
   "pygments_lexer": "ipython3",
   "version": "3.10.8"
  }
 },
 "nbformat": 4,
 "nbformat_minor": 5
}
