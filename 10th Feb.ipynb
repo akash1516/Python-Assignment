{
 "cells": [
  {
   "cell_type": "markdown",
   "id": "2fb2561c-084a-40e1-8bd8-34845a2a8c5e",
   "metadata": {},
   "source": [
    "Q1. Which function is used to open a file? What are the different modes of opening a file? Explain each mode\n",
    "of file opening."
   ]
  },
  {
   "cell_type": "markdown",
   "id": "18cfc353-651c-4b62-9bc8-a9a8f0e5cf17",
   "metadata": {},
   "source": [
    "In Python, the open() function is used to open a file. It takes two arguments: the path of the file you want to open, and the mode in which you want to open it.\n",
    "\n",
    "There are different modes in which we can open a file in Python, and each mode has a different purpose. The modes are:\n",
    "1. \"r\" (read mode): This mode is used to read the contents of an existing file. If the file does not exist, it will raise a FileNotFoundError. This mode is the default mode if no mode is specified.\n",
    "\n",
    "2. \"w\" (write mode): This mode is used to write to a file. If the file does not exist, it will create a new file. If the file already exists, it will truncate the file to zero length and write to it.\n",
    "\n",
    "3. \"a\" (append mode): This mode is used to add new data to an existing file. If the file does not exist, it will create a new file.\n",
    "\n",
    "4. \"x\" (exclusive mode): This mode is used to create a new file, but it will raise a FileExistsError if the file already exists.\n",
    "\n",
    "5. \"b\" (binary mode): This mode is used to read or write a binary file, such as an image or a video file.\n",
    "\n",
    "6. \"t\" (text mode): This mode is used to read or write a text file, such as a .txt file. This is the default mode if no mode is specified."
   ]
  },
  {
   "cell_type": "markdown",
   "id": "5d4db7e6-d399-4bf7-99f7-d957c7e86b5f",
   "metadata": {},
   "source": [
    "\n",
    "\n",
    "\n",
    "Q2. Why close() function is used? Why is it important to close a file?\n",
    "\n",
    "The close() function is used to close a file that has been opened using the open() function in Python. It's important to close a file after you're done using it because:\n",
    "\n",
    "1. Free up system resources\n",
    "2. Write any pending changes to the file\n",
    "3. Allow other programs to access the file"
   ]
  },
  {
   "cell_type": "markdown",
   "id": "0a8c20f8-38c3-48cd-aa5e-9a9d6e81dc27",
   "metadata": {},
   "source": [
    "\n",
    "\n",
    "\n",
    "Q3. Write a python program to create a text file. Write ‘I want to become a Data Scientist’ in that file. Then close the file. Open this file and read the content of the file."
   ]
  },
  {
   "cell_type": "code",
   "execution_count": 1,
   "id": "879aef85-ab97-42e5-a290-166cb65df3b7",
   "metadata": {},
   "outputs": [],
   "source": [
    "f=open(\"my_file.txt\",\"w\")\n",
    "f.write(\"I want to become a Data Scientist\")\n",
    "f.close()"
   ]
  },
  {
   "cell_type": "code",
   "execution_count": 2,
   "id": "a24e99e1-d6fa-4836-84e5-00006ad01be8",
   "metadata": {},
   "outputs": [
    {
     "data": {
      "text/plain": [
       "'I want to become a Data Scientist'"
      ]
     },
     "execution_count": 2,
     "metadata": {},
     "output_type": "execute_result"
    }
   ],
   "source": [
    "r=open(\"my_file.txt\",\"r\")\n",
    "r.read()"
   ]
  },
  {
   "cell_type": "markdown",
   "id": "937150e7-cdb5-48b0-9590-4b0ac7796853",
   "metadata": {},
   "source": [
    "\n",
    "\n",
    "Q4. Explain the following with python code: read(), readline() and readlines().\n",
    "\n",
    "read(): This method reads the entire contents of a file and returns it as a single string.\n",
    "\n",
    "Example using read()\n",
    "with open(\"example.txt\", \"r\") as f:\n",
    "    content = f.read()\n",
    "    print(content)\n",
    "\n",
    "\n",
    "readline(): This method reads a single line from a file and returns it as a string.\n",
    "\n",
    " Example using readline()\n",
    "with open(\"example.txt\", \"r\") as f:\n",
    "    line = f.readline()\n",
    "    while line:\n",
    "        print(line)\n",
    "        line = f.readline()\n",
    "\n",
    "\n",
    "readlines(): This method reads all the lines of a file and returns them as a list of strings.\n",
    "\n",
    " Example using readlines()\n",
    "with open(\"example.txt\", \"r\") as f:\n",
    "    lines = f.readlines()\n",
    "    print(lines)\n"
   ]
  },
  {
   "cell_type": "markdown",
   "id": "b7158327-354e-4be5-83cb-f0ec1071fb92",
   "metadata": {},
   "source": [
    "Q5. Explain why with statement is used with open(). What is the advantage of using with statement and\n",
    "open() together?\n",
    "\n",
    "In Python, the with statement is used to open a file and ensure that it's automatically closed when the block of code inside the with statement is exited, even if an exception is raised.\n",
    "\n",
    "The advantage of using the with statement with open() is that it ensures that the file is properly closed when the block of code is exited, even if an exception is raised. This is important because if a file is not properly closed, it can lead to resource leaks, file corruption, and other issues. By using the with statement, you don't have to worry about manually closing the file or handling exceptions that might occur while the file is open.\n",
    "\n",
    "Another advantage of using the with statement with open() is that it makes the code more concise and easier to read. You don't have to include extra code to manually close the file, and the with statement clearly indicates that the file is being used in a specific block of code."
   ]
  },
  {
   "cell_type": "markdown",
   "id": "945f51e3-189b-491c-a9c7-8590ea48745d",
   "metadata": {},
   "source": [
    "Q6. Explain the write() and writelines() functions. Give a suitable example.\n",
    "\n",
    "\n",
    "write(): This method writes a single string to a file.\n",
    "\n",
    "with open(\"example.txt\", \"w\") as f:\n",
    "    f.write(\"This is an example\\n\")\n",
    "    f.write(\"of using the write() function\\n\")\n",
    "    \n",
    "    \n",
    "writelines(): This method writes a list of strings to a file.\n",
    "\n",
    "lines = [\"This is an example\\n\", \"of using the writelines() function\\n\"]\n",
    "with open(\"example.txt\", \"w\") as f:\n",
    "    f.writelines(lines)"
   ]
  },
  {
   "cell_type": "code",
   "execution_count": null,
   "id": "83a06cf9-d532-48a9-a6fd-a3349c08b5bf",
   "metadata": {},
   "outputs": [],
   "source": []
  }
 ],
 "metadata": {
  "kernelspec": {
   "display_name": "Python 3 (ipykernel)",
   "language": "python",
   "name": "python3"
  },
  "language_info": {
   "codemirror_mode": {
    "name": "ipython",
    "version": 3
   },
   "file_extension": ".py",
   "mimetype": "text/x-python",
   "name": "python",
   "nbconvert_exporter": "python",
   "pygments_lexer": "ipython3",
   "version": "3.10.8"
  }
 },
 "nbformat": 4,
 "nbformat_minor": 5
}
